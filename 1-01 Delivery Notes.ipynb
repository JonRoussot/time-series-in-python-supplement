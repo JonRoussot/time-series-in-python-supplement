{
 "cells": [
  {
   "cell_type": "markdown",
   "metadata": {},
   "source": [
    "# 1-01 Introduction"
   ]
  },
  {
   "cell_type": "markdown",
   "metadata": {},
   "source": [
    "#### About me:\n",
    "\n",
    "* Data Scientist for over 4 years\n",
    "* Before that I was an analyst / data engineer / software engineer / Statistican (briefly!)\n",
    "* I'm more of a software developer now, but have a good overview of time series\n",
    "* Recently brushed up on the material\n",
    "* However I wouldn't qualify myself as an expert in the last two chapters, so if you have detailed questions, I will take these away"
   ]
  },
  {
   "cell_type": "markdown",
   "metadata": {},
   "source": [
    "#### My Rules:\n",
    "\n",
    "* Turn your phones off please! (includes me)\n",
    "* I will do my best to remember names!\n",
    "* Feel free to shout questions out!\n",
    "* If I can answer them I will, if I can't I'll get back to you.\n",
    "* My view is that training is supposed to be fun! I will make bad jokes and swear a lot as I make typos... feel free to do the same!\n",
    "* This isn't an exam! Please talk to one another, especially during the exercises.\n",
    "* If you get stuck during an exercise, please don't suffer in silence...  raise your hand, ask the person next to you etc. \n",
    "    "
   ]
  },
  {
   "cell_type": "markdown",
   "metadata": {},
   "source": [
    "#### About the course:\n",
    "\n",
    "* First two modules are very Pandas-y\n",
    "* Third module gets a bit stats-y\n",
    "* Fourth module get more stats-y\n",
    "* Fifth module stays stats-y\n",
    "* The maths isn't the focus of the course\n",
    "* Instead we'll be looking a lot at the interpretation and process for building time series models\n",
    "* We only have a day... Time Series for Hackers!\n",
    "* You'll get all my code and the answers etc. after the course\n",
    "* I have added a few things that aren't in the materials!\n",
    "* I'll also provide you with some reference material over and above what's available so you can explore more on your own"
   ]
  },
  {
   "cell_type": "code",
   "execution_count": null,
   "metadata": {},
   "outputs": [],
   "source": []
  }
 ],
 "metadata": {
  "kernelspec": {
   "display_name": "Python 3",
   "language": "python",
   "name": "python3"
  },
  "language_info": {
   "codemirror_mode": {
    "name": "ipython",
    "version": 3
   },
   "file_extension": ".py",
   "mimetype": "text/x-python",
   "name": "python",
   "nbconvert_exporter": "python",
   "pygments_lexer": "ipython3",
   "version": "3.7.1"
  }
 },
 "nbformat": 4,
 "nbformat_minor": 2
}
